{
 "cells": [
  {
   "cell_type": "code",
   "execution_count": 1,
   "id": "602c9cb3",
   "metadata": {},
   "outputs": [],
   "source": [
    "import pandas as pd\n",
    "import numpy as np\n",
    "import matplotlib.pyplot as plt\n",
    "import statsmodels.api as sm\n",
    "\n",
    "from sklearn import linear_model\n",
    "import scipy.stats as stats\n",
    "from statsmodels.regression.rolling import RollingOLS\n",
    "import seaborn as sns\n",
    "import warnings\n",
    "warnings.filterwarnings(\"ignore\")\n",
    "pd.set_option(\"display.precision\", 4)\n",
    "sns.set(rc={'figure.figsize':(15, 10)})"
   ]
  },
  {
   "cell_type": "markdown",
   "id": "3fe2629c",
   "metadata": {},
   "source": [
    "# Part 2 Analyzing GMO\n",
    "# Examine GMO's performance. Use the risk-free rate to convert the total returns to excess returns\n",
    "## 1. Calculate the mean, volatility, and Sharpe ratio for GMWAX. Do this for three samples:\n"
   ]
  },
  {
   "cell_type": "code",
   "execution_count": 126,
   "id": "afbd7e1c",
   "metadata": {},
   "outputs": [],
   "source": [
    "signals = pd.read_excel('gmo_analysis_data.xlsx', sheet_name=1).set_index('Date').dropna()\n",
    "rf = pd.read_excel('gmo_analysis_data.xlsx', sheet_name=3).set_index('Date')\n",
    "GMO = pd.read_excel('gmo_analysis_data.xlsx', sheet_name=2).set_index('Date')\n",
    "GMO_ex = GMO.dropna().subtract(rf['US3M'], axis=0).dropna()\n"
   ]
  },
  {
   "cell_type": "markdown",
   "id": "fbdc6549",
   "metadata": {},
   "source": [
    "### from inception through 2011"
   ]
  },
  {
   "cell_type": "code",
   "execution_count": 3,
   "id": "e154ee1a",
   "metadata": {},
   "outputs": [],
   "source": [
    "def summary_stats(df, annual_fac = 12):\n",
    "    stats_df = pd.DataFrame(data = None)\n",
    "    stats_df['Mean'] = df.mean()*annual_fac\n",
    "    stats_df['Vol'] = df.std()*np.sqrt(annual_fac)\n",
    "    stats_df['Sharpe'] = df.mean()/df.std()*np.sqrt(annual_fac)\n",
    "    \n",
    "    return stats_df"
   ]
  },
  {
   "cell_type": "code",
   "execution_count": 4,
   "id": "12102ef7",
   "metadata": {},
   "outputs": [
    {
     "data": {
      "text/html": [
       "<div>\n",
       "<style scoped>\n",
       "    .dataframe tbody tr th:only-of-type {\n",
       "        vertical-align: middle;\n",
       "    }\n",
       "\n",
       "    .dataframe tbody tr th {\n",
       "        vertical-align: top;\n",
       "    }\n",
       "\n",
       "    .dataframe thead th {\n",
       "        text-align: right;\n",
       "    }\n",
       "</style>\n",
       "<table border=\"1\" class=\"dataframe\">\n",
       "  <thead>\n",
       "    <tr style=\"text-align: right;\">\n",
       "      <th></th>\n",
       "      <th>Mean</th>\n",
       "      <th>Vol</th>\n",
       "      <th>Sharpe</th>\n",
       "    </tr>\n",
       "  </thead>\n",
       "  <tbody>\n",
       "    <tr>\n",
       "      <th>GMWAX</th>\n",
       "      <td>0.0158</td>\n",
       "      <td>0.125</td>\n",
       "      <td>0.1266</td>\n",
       "    </tr>\n",
       "  </tbody>\n",
       "</table>\n",
       "</div>"
      ],
      "text/plain": [
       "         Mean    Vol  Sharpe\n",
       "GMWAX  0.0158  0.125  0.1266"
      ]
     },
     "execution_count": 4,
     "metadata": {},
     "output_type": "execute_result"
    }
   ],
   "source": [
    "summary_stats(GMO_ex.loc[:'2011',['GMWAX']] )"
   ]
  },
  {
   "cell_type": "markdown",
   "id": "69966bb5",
   "metadata": {},
   "source": [
    "### 2012-present"
   ]
  },
  {
   "cell_type": "code",
   "execution_count": 5,
   "id": "bf9bfbb3",
   "metadata": {},
   "outputs": [
    {
     "data": {
      "text/html": [
       "<div>\n",
       "<style scoped>\n",
       "    .dataframe tbody tr th:only-of-type {\n",
       "        vertical-align: middle;\n",
       "    }\n",
       "\n",
       "    .dataframe tbody tr th {\n",
       "        vertical-align: top;\n",
       "    }\n",
       "\n",
       "    .dataframe thead th {\n",
       "        text-align: right;\n",
       "    }\n",
       "</style>\n",
       "<table border=\"1\" class=\"dataframe\">\n",
       "  <thead>\n",
       "    <tr style=\"text-align: right;\">\n",
       "      <th></th>\n",
       "      <th>Mean</th>\n",
       "      <th>Vol</th>\n",
       "      <th>Sharpe</th>\n",
       "    </tr>\n",
       "  </thead>\n",
       "  <tbody>\n",
       "    <tr>\n",
       "      <th>GMWAX</th>\n",
       "      <td>0.0366</td>\n",
       "      <td>0.092</td>\n",
       "      <td>0.3982</td>\n",
       "    </tr>\n",
       "  </tbody>\n",
       "</table>\n",
       "</div>"
      ],
      "text/plain": [
       "         Mean    Vol  Sharpe\n",
       "GMWAX  0.0366  0.092  0.3982"
      ]
     },
     "execution_count": 5,
     "metadata": {},
     "output_type": "execute_result"
    }
   ],
   "source": [
    "summary_stats(GMO_ex.loc['2012':,['GMWAX']] )"
   ]
  },
  {
   "cell_type": "markdown",
   "id": "0ec04390",
   "metadata": {},
   "source": [
    "### inception - present"
   ]
  },
  {
   "cell_type": "code",
   "execution_count": 6,
   "id": "831aed32",
   "metadata": {},
   "outputs": [
    {
     "data": {
      "text/html": [
       "<div>\n",
       "<style scoped>\n",
       "    .dataframe tbody tr th:only-of-type {\n",
       "        vertical-align: middle;\n",
       "    }\n",
       "\n",
       "    .dataframe tbody tr th {\n",
       "        vertical-align: top;\n",
       "    }\n",
       "\n",
       "    .dataframe thead th {\n",
       "        text-align: right;\n",
       "    }\n",
       "</style>\n",
       "<table border=\"1\" class=\"dataframe\">\n",
       "  <thead>\n",
       "    <tr style=\"text-align: right;\">\n",
       "      <th></th>\n",
       "      <th>Mean</th>\n",
       "      <th>Vol</th>\n",
       "      <th>Sharpe</th>\n",
       "    </tr>\n",
       "  </thead>\n",
       "  <tbody>\n",
       "    <tr>\n",
       "      <th>GMWAX</th>\n",
       "      <td>0.0245</td>\n",
       "      <td>0.1123</td>\n",
       "      <td>0.2181</td>\n",
       "    </tr>\n",
       "  </tbody>\n",
       "</table>\n",
       "</div>"
      ],
      "text/plain": [
       "         Mean     Vol  Sharpe\n",
       "GMWAX  0.0245  0.1123  0.2181"
      ]
     },
     "execution_count": 6,
     "metadata": {},
     "output_type": "execute_result"
    }
   ],
   "source": [
    "summary_stats(GMO_ex[['GMWAX']])\n"
   ]
  },
  {
   "cell_type": "markdown",
   "id": "65d8f3f8",
   "metadata": {},
   "source": [
    "## Has the mean, vol, and Sharpe changed much since the case?\n",
    "Since 2012 GMO perfomanced better that it did at first stage in terms of mean, vol and sharpe ratio."
   ]
  },
  {
   "cell_type": "markdown",
   "id": "2b253d5e",
   "metadata": {},
   "source": [
    "## 2. GMO believes a risk premium is compensation for a security's tendency to lose money at bad times\". For all three samples, analyze extreme scenarios by looking at:\n",
    "### Min return\n",
    "### VaR-5th\n",
    "### Maximum drawdown\n"
   ]
  },
  {
   "cell_type": "code",
   "execution_count": 7,
   "id": "c9c9e6fe",
   "metadata": {},
   "outputs": [],
   "source": [
    "def tail_risk(df,df_total):\n",
    "    tr_df = pd.DataFrame(data = None)\n",
    "    tr_df['Min return'] = df.min()\n",
    "    tr_df['VaR-5th'] = df.quantile(.05)\n",
    "    cum_ret = (1 + df_total).cumprod()\n",
    "    rolling_max = cum_ret.cummax()\n",
    "    drawdown = (cum_ret - rolling_max) / rolling_max\n",
    "    tr_df['Max Drawdown'] = drawdown.min()\n",
    "    \n",
    "    return tr_df"
   ]
  },
  {
   "cell_type": "code",
   "execution_count": 8,
   "id": "24dcbdff",
   "metadata": {},
   "outputs": [
    {
     "data": {
      "text/html": [
       "<div>\n",
       "<style scoped>\n",
       "    .dataframe tbody tr th:only-of-type {\n",
       "        vertical-align: middle;\n",
       "    }\n",
       "\n",
       "    .dataframe tbody tr th {\n",
       "        vertical-align: top;\n",
       "    }\n",
       "\n",
       "    .dataframe thead th {\n",
       "        text-align: right;\n",
       "    }\n",
       "</style>\n",
       "<table border=\"1\" class=\"dataframe\">\n",
       "  <thead>\n",
       "    <tr style=\"text-align: right;\">\n",
       "      <th></th>\n",
       "      <th>Min return</th>\n",
       "      <th>VaR-5th</th>\n",
       "      <th>Max Drawdown</th>\n",
       "    </tr>\n",
       "  </thead>\n",
       "  <tbody>\n",
       "    <tr>\n",
       "      <th>SPY</th>\n",
       "      <td>-0.1656</td>\n",
       "      <td>-0.0802</td>\n",
       "      <td>-0.5080</td>\n",
       "    </tr>\n",
       "    <tr>\n",
       "      <th>GMWAX</th>\n",
       "      <td>-0.1492</td>\n",
       "      <td>-0.0598</td>\n",
       "      <td>-0.3552</td>\n",
       "    </tr>\n",
       "  </tbody>\n",
       "</table>\n",
       "</div>"
      ],
      "text/plain": [
       "       Min return  VaR-5th  Max Drawdown\n",
       "SPY       -0.1656  -0.0802       -0.5080\n",
       "GMWAX     -0.1492  -0.0598       -0.3552"
      ]
     },
     "execution_count": 8,
     "metadata": {},
     "output_type": "execute_result"
    }
   ],
   "source": [
    "tail_2011 = tail_risk(GMO_ex.loc[:'2011'],GMO.loc[:'2011'])\n",
    "tail_2011"
   ]
  },
  {
   "cell_type": "code",
   "execution_count": 9,
   "id": "bf79750e",
   "metadata": {},
   "outputs": [
    {
     "data": {
      "text/html": [
       "<div>\n",
       "<style scoped>\n",
       "    .dataframe tbody tr th:only-of-type {\n",
       "        vertical-align: middle;\n",
       "    }\n",
       "\n",
       "    .dataframe tbody tr th {\n",
       "        vertical-align: top;\n",
       "    }\n",
       "\n",
       "    .dataframe thead th {\n",
       "        text-align: right;\n",
       "    }\n",
       "</style>\n",
       "<table border=\"1\" class=\"dataframe\">\n",
       "  <thead>\n",
       "    <tr style=\"text-align: right;\">\n",
       "      <th></th>\n",
       "      <th>Min return</th>\n",
       "      <th>VaR-5th</th>\n",
       "      <th>Max Drawdown</th>\n",
       "    </tr>\n",
       "  </thead>\n",
       "  <tbody>\n",
       "    <tr>\n",
       "      <th>SPY</th>\n",
       "      <td>-0.1247</td>\n",
       "      <td>-0.0687</td>\n",
       "      <td>-0.2393</td>\n",
       "    </tr>\n",
       "    <tr>\n",
       "      <th>GMWAX</th>\n",
       "      <td>-0.1187</td>\n",
       "      <td>-0.0397</td>\n",
       "      <td>-0.2168</td>\n",
       "    </tr>\n",
       "  </tbody>\n",
       "</table>\n",
       "</div>"
      ],
      "text/plain": [
       "       Min return  VaR-5th  Max Drawdown\n",
       "SPY       -0.1247  -0.0687       -0.2393\n",
       "GMWAX     -0.1187  -0.0397       -0.2168"
      ]
     },
     "execution_count": 9,
     "metadata": {},
     "output_type": "execute_result"
    }
   ],
   "source": [
    "tail_2012 = tail_risk(GMO_ex.loc['2012':],GMO.loc['2012':])\n",
    "tail_2012"
   ]
  },
  {
   "cell_type": "code",
   "execution_count": 10,
   "id": "d0228fba",
   "metadata": {},
   "outputs": [
    {
     "data": {
      "text/html": [
       "<div>\n",
       "<style scoped>\n",
       "    .dataframe tbody tr th:only-of-type {\n",
       "        vertical-align: middle;\n",
       "    }\n",
       "\n",
       "    .dataframe tbody tr th {\n",
       "        vertical-align: top;\n",
       "    }\n",
       "\n",
       "    .dataframe thead th {\n",
       "        text-align: right;\n",
       "    }\n",
       "</style>\n",
       "<table border=\"1\" class=\"dataframe\">\n",
       "  <thead>\n",
       "    <tr style=\"text-align: right;\">\n",
       "      <th></th>\n",
       "      <th>Min return</th>\n",
       "      <th>VaR-5th</th>\n",
       "      <th>Max Drawdown</th>\n",
       "    </tr>\n",
       "  </thead>\n",
       "  <tbody>\n",
       "    <tr>\n",
       "      <th>SPY</th>\n",
       "      <td>-0.1656</td>\n",
       "      <td>-0.0800</td>\n",
       "      <td>-0.5080</td>\n",
       "    </tr>\n",
       "    <tr>\n",
       "      <th>GMWAX</th>\n",
       "      <td>-0.1492</td>\n",
       "      <td>-0.0483</td>\n",
       "      <td>-0.3552</td>\n",
       "    </tr>\n",
       "  </tbody>\n",
       "</table>\n",
       "</div>"
      ],
      "text/plain": [
       "       Min return  VaR-5th  Max Drawdown\n",
       "SPY       -0.1656  -0.0800       -0.5080\n",
       "GMWAX     -0.1492  -0.0483       -0.3552"
      ]
     },
     "execution_count": 10,
     "metadata": {},
     "output_type": "execute_result"
    }
   ],
   "source": [
    "tail_total = tail_risk(GMO_ex,GMO)\n",
    "tail_total"
   ]
  },
  {
   "cell_type": "markdown",
   "id": "d3b0e0dd",
   "metadata": {},
   "source": [
    "## a) Does GMWAX have high or low tail-risk as seen by these stats?\n",
    "GWMAX has lower tail_risk than SPY in terms of all three statitics.\n",
    "\n",
    "## b) Does that vary much across the two subsamples?\n",
    "Yes,in subsample from 2012 to recent, the max drawdown and min return improved a lot."
   ]
  },
  {
   "cell_type": "markdown",
   "id": "58cb6ab9",
   "metadata": {},
   "source": [
    "## 3. For all three samples, regress excess returns of GMWAX on excess returns of SPY.\n",
    "## a) Report the estimated alpha, beta, and r-squared."
   ]
  },
  {
   "cell_type": "code",
   "execution_count": 23,
   "id": "8bc62b54",
   "metadata": {},
   "outputs": [],
   "source": [
    "def reg(df, y_col, X_col, annual_fac=12):\n",
    "    y = df[y_col]\n",
    "    X = sm.add_constant(df[X_col])\n",
    "    model = sm.OLS(y, X, missing = 'drop').fit()\n",
    "    reg_df = model.params.to_frame('Regression Parameters')\n",
    "    reg_df.loc[r'$R^{2}$'] = model.rsquared\n",
    "    reg_df.loc['const'] *= annual_fac\n",
    "    \n",
    "    #rename index\n",
    "    reg_df.rename(index = {'const':'Alpha','SPY':'SPY_beta','DP':'DP_beta','EP':'EP_beta','US10Y':'US10Y_beta'},inplace = True)\n",
    "    return reg_df"
   ]
  },
  {
   "cell_type": "code",
   "execution_count": 12,
   "id": "c287c332",
   "metadata": {},
   "outputs": [
    {
     "data": {
      "text/html": [
       "<div>\n",
       "<style scoped>\n",
       "    .dataframe tbody tr th:only-of-type {\n",
       "        vertical-align: middle;\n",
       "    }\n",
       "\n",
       "    .dataframe tbody tr th {\n",
       "        vertical-align: top;\n",
       "    }\n",
       "\n",
       "    .dataframe thead th {\n",
       "        text-align: right;\n",
       "    }\n",
       "</style>\n",
       "<table border=\"1\" class=\"dataframe\">\n",
       "  <thead>\n",
       "    <tr style=\"text-align: right;\">\n",
       "      <th></th>\n",
       "      <th>Regression Parameters</th>\n",
       "    </tr>\n",
       "  </thead>\n",
       "  <tbody>\n",
       "    <tr>\n",
       "      <th>Alpha</th>\n",
       "      <td>-0.0058</td>\n",
       "    </tr>\n",
       "    <tr>\n",
       "      <th>SPY_beta</th>\n",
       "      <td>0.5396</td>\n",
       "    </tr>\n",
       "    <tr>\n",
       "      <th>$R^{2}$</th>\n",
       "      <td>0.5071</td>\n",
       "    </tr>\n",
       "  </tbody>\n",
       "</table>\n",
       "</div>"
      ],
      "text/plain": [
       "          Regression Parameters\n",
       "Alpha                   -0.0058\n",
       "SPY_beta                 0.5396\n",
       "$R^{2}$                  0.5071"
      ]
     },
     "execution_count": 12,
     "metadata": {},
     "output_type": "execute_result"
    }
   ],
   "source": [
    "reg(GMO_ex.loc[:'2011'],'GMWAX','SPY')\n",
    "# From imception to 2021"
   ]
  },
  {
   "cell_type": "code",
   "execution_count": 13,
   "id": "8d5467ad",
   "metadata": {},
   "outputs": [
    {
     "data": {
      "text/html": [
       "<div>\n",
       "<style scoped>\n",
       "    .dataframe tbody tr th:only-of-type {\n",
       "        vertical-align: middle;\n",
       "    }\n",
       "\n",
       "    .dataframe tbody tr th {\n",
       "        vertical-align: top;\n",
       "    }\n",
       "\n",
       "    .dataframe thead th {\n",
       "        text-align: right;\n",
       "    }\n",
       "</style>\n",
       "<table border=\"1\" class=\"dataframe\">\n",
       "  <thead>\n",
       "    <tr style=\"text-align: right;\">\n",
       "      <th></th>\n",
       "      <th>Regression Parameters</th>\n",
       "    </tr>\n",
       "  </thead>\n",
       "  <tbody>\n",
       "    <tr>\n",
       "      <th>Alpha</th>\n",
       "      <td>-0.0345</td>\n",
       "    </tr>\n",
       "    <tr>\n",
       "      <th>SPY_beta</th>\n",
       "      <td>0.5622</td>\n",
       "    </tr>\n",
       "    <tr>\n",
       "      <th>$R^{2}$</th>\n",
       "      <td>0.7645</td>\n",
       "    </tr>\n",
       "  </tbody>\n",
       "</table>\n",
       "</div>"
      ],
      "text/plain": [
       "          Regression Parameters\n",
       "Alpha                   -0.0345\n",
       "SPY_beta                 0.5622\n",
       "$R^{2}$                  0.7645"
      ]
     },
     "execution_count": 13,
     "metadata": {},
     "output_type": "execute_result"
    }
   ],
   "source": [
    "reg(GMO_ex.loc['2012':],'GMWAX','SPY')\n",
    "# From 2012 to recent"
   ]
  },
  {
   "cell_type": "code",
   "execution_count": 14,
   "id": "0bd97035",
   "metadata": {},
   "outputs": [
    {
     "data": {
      "text/html": [
       "<div>\n",
       "<style scoped>\n",
       "    .dataframe tbody tr th:only-of-type {\n",
       "        vertical-align: middle;\n",
       "    }\n",
       "\n",
       "    .dataframe tbody tr th {\n",
       "        vertical-align: top;\n",
       "    }\n",
       "\n",
       "    .dataframe thead th {\n",
       "        text-align: right;\n",
       "    }\n",
       "</style>\n",
       "<table border=\"1\" class=\"dataframe\">\n",
       "  <thead>\n",
       "    <tr style=\"text-align: right;\">\n",
       "      <th></th>\n",
       "      <th>Regression Parameters</th>\n",
       "    </tr>\n",
       "  </thead>\n",
       "  <tbody>\n",
       "    <tr>\n",
       "      <th>Alpha</th>\n",
       "      <td>-0.0170</td>\n",
       "    </tr>\n",
       "    <tr>\n",
       "      <th>SPY_beta</th>\n",
       "      <td>0.5456</td>\n",
       "    </tr>\n",
       "    <tr>\n",
       "      <th>$R^{2}$</th>\n",
       "      <td>0.5777</td>\n",
       "    </tr>\n",
       "  </tbody>\n",
       "</table>\n",
       "</div>"
      ],
      "text/plain": [
       "          Regression Parameters\n",
       "Alpha                   -0.0170\n",
       "SPY_beta                 0.5456\n",
       "$R^{2}$                  0.5777"
      ]
     },
     "execution_count": 14,
     "metadata": {},
     "output_type": "execute_result"
    }
   ],
   "source": [
    "reg(GMO_ex,'GMWAX','SPY')\n",
    "# Total"
   ]
  },
  {
   "cell_type": "markdown",
   "id": "5907b8b2",
   "metadata": {},
   "source": [
    "## b) Is GMWAX a low-beta strategy? Has that changed since the case?\n",
    "We can see that GMWAX has overall market beta larger than 0.5, for me this is not a very high nor very low beta, but comparing with others it can be called a low-beta strategy. \n",
    "GMWAX's market beta has mained consistency since the case.\n",
    "## c) Does GMWAX provide alpha? Has that changed across the subsamples?\n",
    "No since all subsample alphas are negative."
   ]
  },
  {
   "cell_type": "markdown",
   "id": "8cae7b90",
   "metadata": {},
   "source": [
    "# Part 3 Forecast Regressions\n",
    "## 1. Do the lagged regression, report R-squared.\n",
    "### a) X as a single regressor, the dividend-price ratio."
   ]
  },
  {
   "cell_type": "code",
   "execution_count": 19,
   "id": "23b3d745",
   "metadata": {},
   "outputs": [
    {
     "data": {
      "text/html": [
       "<div>\n",
       "<style scoped>\n",
       "    .dataframe tbody tr th:only-of-type {\n",
       "        vertical-align: middle;\n",
       "    }\n",
       "\n",
       "    .dataframe tbody tr th {\n",
       "        vertical-align: top;\n",
       "    }\n",
       "\n",
       "    .dataframe thead th {\n",
       "        text-align: right;\n",
       "    }\n",
       "</style>\n",
       "<table border=\"1\" class=\"dataframe\">\n",
       "  <thead>\n",
       "    <tr style=\"text-align: right;\">\n",
       "      <th></th>\n",
       "      <th>DP</th>\n",
       "      <th>EP</th>\n",
       "      <th>US10Y</th>\n",
       "      <th>SPY</th>\n",
       "    </tr>\n",
       "    <tr>\n",
       "      <th>Date</th>\n",
       "      <th></th>\n",
       "      <th></th>\n",
       "      <th></th>\n",
       "      <th></th>\n",
       "    </tr>\n",
       "  </thead>\n",
       "  <tbody>\n",
       "    <tr>\n",
       "      <th>1993-02-28</th>\n",
       "      <td>NaN</td>\n",
       "      <td>NaN</td>\n",
       "      <td>NaN</td>\n",
       "      <td>0.0107</td>\n",
       "    </tr>\n",
       "    <tr>\n",
       "      <th>1993-03-31</th>\n",
       "      <td>2.82</td>\n",
       "      <td>4.44</td>\n",
       "      <td>6.03</td>\n",
       "      <td>0.0224</td>\n",
       "    </tr>\n",
       "    <tr>\n",
       "      <th>1993-04-30</th>\n",
       "      <td>2.77</td>\n",
       "      <td>4.41</td>\n",
       "      <td>6.03</td>\n",
       "      <td>-0.0256</td>\n",
       "    </tr>\n",
       "    <tr>\n",
       "      <th>1993-05-31</th>\n",
       "      <td>2.82</td>\n",
       "      <td>4.44</td>\n",
       "      <td>6.05</td>\n",
       "      <td>0.0270</td>\n",
       "    </tr>\n",
       "    <tr>\n",
       "      <th>1993-06-30</th>\n",
       "      <td>2.81</td>\n",
       "      <td>4.38</td>\n",
       "      <td>6.16</td>\n",
       "      <td>0.0037</td>\n",
       "    </tr>\n",
       "    <tr>\n",
       "      <th>...</th>\n",
       "      <td>...</td>\n",
       "      <td>...</td>\n",
       "      <td>...</td>\n",
       "      <td>...</td>\n",
       "    </tr>\n",
       "    <tr>\n",
       "      <th>2022-06-30</th>\n",
       "      <td>1.57</td>\n",
       "      <td>4.79</td>\n",
       "      <td>2.85</td>\n",
       "      <td>-0.0825</td>\n",
       "    </tr>\n",
       "    <tr>\n",
       "      <th>2022-07-31</th>\n",
       "      <td>1.64</td>\n",
       "      <td>5.23</td>\n",
       "      <td>2.98</td>\n",
       "      <td>0.0921</td>\n",
       "    </tr>\n",
       "    <tr>\n",
       "      <th>2022-08-31</th>\n",
       "      <td>1.65</td>\n",
       "      <td>4.91</td>\n",
       "      <td>2.67</td>\n",
       "      <td>-0.0408</td>\n",
       "    </tr>\n",
       "    <tr>\n",
       "      <th>2022-09-30</th>\n",
       "      <td>1.56</td>\n",
       "      <td>5.00</td>\n",
       "      <td>3.15</td>\n",
       "      <td>-0.0924</td>\n",
       "    </tr>\n",
       "    <tr>\n",
       "      <th>2022-10-31</th>\n",
       "      <td>1.70</td>\n",
       "      <td>5.52</td>\n",
       "      <td>3.83</td>\n",
       "      <td>0.0813</td>\n",
       "    </tr>\n",
       "  </tbody>\n",
       "</table>\n",
       "<p>357 rows × 4 columns</p>\n",
       "</div>"
      ],
      "text/plain": [
       "              DP    EP  US10Y     SPY\n",
       "Date                                 \n",
       "1993-02-28   NaN   NaN    NaN  0.0107\n",
       "1993-03-31  2.82  4.44   6.03  0.0224\n",
       "1993-04-30  2.77  4.41   6.03 -0.0256\n",
       "1993-05-31  2.82  4.44   6.05  0.0270\n",
       "1993-06-30  2.81  4.38   6.16  0.0037\n",
       "...          ...   ...    ...     ...\n",
       "2022-06-30  1.57  4.79   2.85 -0.0825\n",
       "2022-07-31  1.64  5.23   2.98  0.0921\n",
       "2022-08-31  1.65  4.91   2.67 -0.0408\n",
       "2022-09-30  1.56  5.00   3.15 -0.0924\n",
       "2022-10-31  1.70  5.52   3.83  0.0813\n",
       "\n",
       "[357 rows x 4 columns]"
      ]
     },
     "execution_count": 19,
     "metadata": {},
     "output_type": "execute_result"
    }
   ],
   "source": [
    "signals_copy = signals.shift()\n",
    "signals_copy['SPY'] = GMO['SPY']\n",
    "signals_copy"
   ]
  },
  {
   "cell_type": "code",
   "execution_count": 35,
   "id": "e1838d9d",
   "metadata": {},
   "outputs": [
    {
     "data": {
      "text/html": [
       "<div>\n",
       "<style scoped>\n",
       "    .dataframe tbody tr th:only-of-type {\n",
       "        vertical-align: middle;\n",
       "    }\n",
       "\n",
       "    .dataframe tbody tr th {\n",
       "        vertical-align: top;\n",
       "    }\n",
       "\n",
       "    .dataframe thead th {\n",
       "        text-align: right;\n",
       "    }\n",
       "</style>\n",
       "<table border=\"1\" class=\"dataframe\">\n",
       "  <thead>\n",
       "    <tr style=\"text-align: right;\">\n",
       "      <th></th>\n",
       "      <th>Regression Parameters</th>\n",
       "    </tr>\n",
       "  </thead>\n",
       "  <tbody>\n",
       "    <tr>\n",
       "      <th>Alpha</th>\n",
       "      <td>-0.1129</td>\n",
       "    </tr>\n",
       "    <tr>\n",
       "      <th>DP_beta</th>\n",
       "      <td>0.0094</td>\n",
       "    </tr>\n",
       "    <tr>\n",
       "      <th>$R^{2}$</th>\n",
       "      <td>0.0094</td>\n",
       "    </tr>\n",
       "  </tbody>\n",
       "</table>\n",
       "</div>"
      ],
      "text/plain": [
       "         Regression Parameters\n",
       "Alpha                  -0.1129\n",
       "DP_beta                 0.0094\n",
       "$R^{2}$                 0.0094"
      ]
     },
     "execution_count": 35,
     "metadata": {},
     "output_type": "execute_result"
    }
   ],
   "source": [
    "DP = reg(signals_copy, 'SPY', 'DP')\n",
    "DP\n"
   ]
  },
  {
   "cell_type": "markdown",
   "id": "e5283340",
   "metadata": {},
   "source": [
    "### b) X as a single regressor, the earnings-price ratio."
   ]
  },
  {
   "cell_type": "code",
   "execution_count": 30,
   "id": "3701aede",
   "metadata": {
    "scrolled": true
   },
   "outputs": [
    {
     "data": {
      "text/html": [
       "<div>\n",
       "<style scoped>\n",
       "    .dataframe tbody tr th:only-of-type {\n",
       "        vertical-align: middle;\n",
       "    }\n",
       "\n",
       "    .dataframe tbody tr th {\n",
       "        vertical-align: top;\n",
       "    }\n",
       "\n",
       "    .dataframe thead th {\n",
       "        text-align: right;\n",
       "    }\n",
       "</style>\n",
       "<table border=\"1\" class=\"dataframe\">\n",
       "  <thead>\n",
       "    <tr style=\"text-align: right;\">\n",
       "      <th></th>\n",
       "      <th>Regression Parameters</th>\n",
       "    </tr>\n",
       "  </thead>\n",
       "  <tbody>\n",
       "    <tr>\n",
       "      <th>Alpha</th>\n",
       "      <td>-0.0712</td>\n",
       "    </tr>\n",
       "    <tr>\n",
       "      <th>EP_beta</th>\n",
       "      <td>0.0032</td>\n",
       "    </tr>\n",
       "    <tr>\n",
       "      <th>$R^{2}$</th>\n",
       "      <td>0.0086</td>\n",
       "    </tr>\n",
       "  </tbody>\n",
       "</table>\n",
       "</div>"
      ],
      "text/plain": [
       "         Regression Parameters\n",
       "Alpha                  -0.0712\n",
       "EP_beta                 0.0032\n",
       "$R^{2}$                 0.0086"
      ]
     },
     "execution_count": 30,
     "metadata": {},
     "output_type": "execute_result"
    }
   ],
   "source": [
    "EP = reg(signals_copy, 'SPY', 'EP')\n",
    "EP"
   ]
  },
  {
   "cell_type": "markdown",
   "id": "b3cdb760",
   "metadata": {},
   "source": [
    "### c) X as three regressors, the dividend-price ratio, the earnings-price ratio, and the 10-year yield."
   ]
  },
  {
   "cell_type": "code",
   "execution_count": 31,
   "id": "ab494e08",
   "metadata": {},
   "outputs": [
    {
     "data": {
      "text/html": [
       "<div>\n",
       "<style scoped>\n",
       "    .dataframe tbody tr th:only-of-type {\n",
       "        vertical-align: middle;\n",
       "    }\n",
       "\n",
       "    .dataframe tbody tr th {\n",
       "        vertical-align: top;\n",
       "    }\n",
       "\n",
       "    .dataframe thead th {\n",
       "        text-align: right;\n",
       "    }\n",
       "</style>\n",
       "<table border=\"1\" class=\"dataframe\">\n",
       "  <thead>\n",
       "    <tr style=\"text-align: right;\">\n",
       "      <th></th>\n",
       "      <th>Regression Parameters</th>\n",
       "    </tr>\n",
       "  </thead>\n",
       "  <tbody>\n",
       "    <tr>\n",
       "      <th>Alpha</th>\n",
       "      <td>-0.1792</td>\n",
       "    </tr>\n",
       "    <tr>\n",
       "      <th>DP_beta</th>\n",
       "      <td>0.0080</td>\n",
       "    </tr>\n",
       "    <tr>\n",
       "      <th>EP_beta</th>\n",
       "      <td>0.0027</td>\n",
       "    </tr>\n",
       "    <tr>\n",
       "      <th>US10Y_beta</th>\n",
       "      <td>-0.0010</td>\n",
       "    </tr>\n",
       "    <tr>\n",
       "      <th>$R^{2}$</th>\n",
       "      <td>0.0163</td>\n",
       "    </tr>\n",
       "  </tbody>\n",
       "</table>\n",
       "</div>"
      ],
      "text/plain": [
       "            Regression Parameters\n",
       "Alpha                     -0.1792\n",
       "DP_beta                    0.0080\n",
       "EP_beta                    0.0027\n",
       "US10Y_beta                -0.0010\n",
       "$R^{2}$                    0.0163"
      ]
     },
     "execution_count": 31,
     "metadata": {},
     "output_type": "execute_result"
    }
   ],
   "source": [
    "EP_DP_10Y = reg(signals_copy, 'SPY', ['DP','EP','US10Y'])\n",
    "EP_DP_10Y"
   ]
  },
  {
   "cell_type": "markdown",
   "id": "e4859ea0",
   "metadata": {},
   "source": [
    "## 2. For each of the three regressions, utilize the resulting forecast in a trading strategy\n"
   ]
  },
  {
   "cell_type": "code",
   "execution_count": 40,
   "id": "552ee6aa",
   "metadata": {},
   "outputs": [],
   "source": [
    "w_DP = 100 * (DP.loc['Alpha'][0]/12 + DP.loc['DP_beta'][0] * signals_copy['DP'])\n",
    "\n",
    "r_DP = (w_DP * signals_copy['SPY']).dropna()\n",
    "\n",
    "w_EP = 100 * (EP.loc['Alpha'][0]/12 + EP.loc['EP_beta'][0] * signals_copy['EP'])\n",
    "\n",
    "r_EP = (w_EP * signals_copy['SPY']).dropna()\n",
    "\n",
    "w_3fac = 100 * (EP_DP_10Y.loc['Alpha'][0]/12 + EP_DP_10Y.loc['EP_beta'][0] * signals_copy['EP']\\\n",
    "                                             + EP_DP_10Y.loc['DP_beta'][0] * signals_copy['DP']\\\n",
    "                                             + EP_DP_10Y.loc['US10Y_beta'][0] * signals_copy['US10Y'])\n",
    "\n",
    "r_3fac = (w_3fac * signals_copy['SPY']).dropna()"
   ]
  },
  {
   "cell_type": "code",
   "execution_count": 69,
   "id": "09c86c14",
   "metadata": {},
   "outputs": [],
   "source": [
    "# estimate each strategy's performace\n",
    "def summary_stats_bm(series, bm, series_total,annual_fac=12):\n",
    "    ss_df = pd.DataFrame(data = None, index = ['Summary Stats'])\n",
    "    ss_df['Mean'] = series.mean() * annual_fac\n",
    "    ss_df['Vol'] = series.std() * np.sqrt(annual_fac)\n",
    "    ss_df['Sharpe (Mean/Vol)'] = ss_df['Mean'] / ss_df['Vol']\n",
    "    \n",
    "    y = series\n",
    "    X = sm.add_constant(bm.loc[series.index])\n",
    "    reg = sm.OLS(y,X).fit()\n",
    "    ss_df[r'$\\alpha$'] = reg.params[0] * annual_fac\n",
    "    ss_df[r'$\\beta^{SPY}$'] = reg.params[1]\n",
    "    \n",
    "    cum_ret = (1 + series_total).cumprod()\n",
    "    rolling_max = cum_ret.cummax()\n",
    "    drawdown = (cum_ret - rolling_max) / rolling_max\n",
    "    ss_df['Max Drawdown'] = drawdown.min()\n",
    "    \n",
    "    ss_df['Information ratio'] = (reg.params[0] / reg.resid.std()) * np.sqrt(annual_fac)\n",
    "    \n",
    "    return round(ss_df, 4)"
   ]
  },
  {
   "cell_type": "code",
   "execution_count": 70,
   "id": "7684df68",
   "metadata": {},
   "outputs": [
    {
     "data": {
      "text/html": [
       "<div>\n",
       "<style scoped>\n",
       "    .dataframe tbody tr th:only-of-type {\n",
       "        vertical-align: middle;\n",
       "    }\n",
       "\n",
       "    .dataframe tbody tr th {\n",
       "        vertical-align: top;\n",
       "    }\n",
       "\n",
       "    .dataframe thead th {\n",
       "        text-align: right;\n",
       "    }\n",
       "</style>\n",
       "<table border=\"1\" class=\"dataframe\">\n",
       "  <thead>\n",
       "    <tr style=\"text-align: right;\">\n",
       "      <th></th>\n",
       "      <th>Mean</th>\n",
       "      <th>Vol</th>\n",
       "      <th>Sharpe (Mean/Vol)</th>\n",
       "      <th>$\\alpha$</th>\n",
       "      <th>$\\beta^{SPY}$</th>\n",
       "      <th>Max Drawdown</th>\n",
       "      <th>Information ratio</th>\n",
       "    </tr>\n",
       "  </thead>\n",
       "  <tbody>\n",
       "    <tr>\n",
       "      <th>Summary Stats</th>\n",
       "      <td>0.1095</td>\n",
       "      <td>0.149</td>\n",
       "      <td>0.7348</td>\n",
       "      <td>0.0207</td>\n",
       "      <td>0.8611</td>\n",
       "      <td>-0.6463</td>\n",
       "      <td>0.2759</td>\n",
       "    </tr>\n",
       "  </tbody>\n",
       "</table>\n",
       "</div>"
      ],
      "text/plain": [
       "                 Mean    Vol  Sharpe (Mean/Vol)  $\\alpha$  $\\beta^{SPY}$  \\\n",
       "Summary Stats  0.1095  0.149             0.7348    0.0207         0.8611   \n",
       "\n",
       "               Max Drawdown  Information ratio  \n",
       "Summary Stats       -0.6463             0.2759  "
      ]
     },
     "execution_count": 70,
     "metadata": {},
     "output_type": "execute_result"
    }
   ],
   "source": [
    "r_DP_total = r_DP.add(rf['US3M'])\n",
    "summary_stats_bm(r_DP, signals_copy[['SPY']],r_DP_total)\n"
   ]
  },
  {
   "cell_type": "code",
   "execution_count": 71,
   "id": "34eb5cba",
   "metadata": {},
   "outputs": [
    {
     "data": {
      "text/html": [
       "<div>\n",
       "<style scoped>\n",
       "    .dataframe tbody tr th:only-of-type {\n",
       "        vertical-align: middle;\n",
       "    }\n",
       "\n",
       "    .dataframe tbody tr th {\n",
       "        vertical-align: top;\n",
       "    }\n",
       "\n",
       "    .dataframe thead th {\n",
       "        text-align: right;\n",
       "    }\n",
       "</style>\n",
       "<table border=\"1\" class=\"dataframe\">\n",
       "  <thead>\n",
       "    <tr style=\"text-align: right;\">\n",
       "      <th></th>\n",
       "      <th>Mean</th>\n",
       "      <th>Vol</th>\n",
       "      <th>Sharpe (Mean/Vol)</th>\n",
       "      <th>$\\alpha$</th>\n",
       "      <th>$\\beta^{SPY}$</th>\n",
       "      <th>Max Drawdown</th>\n",
       "      <th>Information ratio</th>\n",
       "    </tr>\n",
       "  </thead>\n",
       "  <tbody>\n",
       "    <tr>\n",
       "      <th>Summary Stats</th>\n",
       "      <td>0.1078</td>\n",
       "      <td>0.1286</td>\n",
       "      <td>0.8383</td>\n",
       "      <td>0.0322</td>\n",
       "      <td>0.7327</td>\n",
       "      <td>-0.3693</td>\n",
       "      <td>0.4789</td>\n",
       "    </tr>\n",
       "  </tbody>\n",
       "</table>\n",
       "</div>"
      ],
      "text/plain": [
       "                 Mean     Vol  Sharpe (Mean/Vol)  $\\alpha$  $\\beta^{SPY}$  \\\n",
       "Summary Stats  0.1078  0.1286             0.8383    0.0322         0.7327   \n",
       "\n",
       "               Max Drawdown  Information ratio  \n",
       "Summary Stats       -0.3693             0.4789  "
      ]
     },
     "execution_count": 71,
     "metadata": {},
     "output_type": "execute_result"
    }
   ],
   "source": [
    "r_EP_total = r_EP.add(rf['US3M'])\n",
    "summary_stats_bm(r_EP, signals_copy[['SPY']],r_EP_total)\n"
   ]
  },
  {
   "cell_type": "code",
   "execution_count": 72,
   "id": "86ba36f5",
   "metadata": {},
   "outputs": [
    {
     "data": {
      "text/html": [
       "<div>\n",
       "<style scoped>\n",
       "    .dataframe tbody tr th:only-of-type {\n",
       "        vertical-align: middle;\n",
       "    }\n",
       "\n",
       "    .dataframe tbody tr th {\n",
       "        vertical-align: top;\n",
       "    }\n",
       "\n",
       "    .dataframe thead th {\n",
       "        text-align: right;\n",
       "    }\n",
       "</style>\n",
       "<table border=\"1\" class=\"dataframe\">\n",
       "  <thead>\n",
       "    <tr style=\"text-align: right;\">\n",
       "      <th></th>\n",
       "      <th>Mean</th>\n",
       "      <th>Vol</th>\n",
       "      <th>Sharpe (Mean/Vol)</th>\n",
       "      <th>$\\alpha$</th>\n",
       "      <th>$\\beta^{SPY}$</th>\n",
       "      <th>Max Drawdown</th>\n",
       "      <th>Information ratio</th>\n",
       "    </tr>\n",
       "  </thead>\n",
       "  <tbody>\n",
       "    <tr>\n",
       "      <th>Summary Stats</th>\n",
       "      <td>0.125</td>\n",
       "      <td>0.1456</td>\n",
       "      <td>0.8588</td>\n",
       "      <td>0.0451</td>\n",
       "      <td>0.775</td>\n",
       "      <td>-0.5129</td>\n",
       "      <td>0.5118</td>\n",
       "    </tr>\n",
       "  </tbody>\n",
       "</table>\n",
       "</div>"
      ],
      "text/plain": [
       "                Mean     Vol  Sharpe (Mean/Vol)  $\\alpha$  $\\beta^{SPY}$  \\\n",
       "Summary Stats  0.125  0.1456             0.8588    0.0451          0.775   \n",
       "\n",
       "               Max Drawdown  Information ratio  \n",
       "Summary Stats       -0.5129             0.5118  "
      ]
     },
     "execution_count": 72,
     "metadata": {},
     "output_type": "execute_result"
    }
   ],
   "source": [
    "r_3fac_total = r_3fac.add(rf['US3M'])\n",
    "summary_stats_bm(r_3fac, signals_copy[['SPY']],r_3fac_total)\n"
   ]
  },
  {
   "cell_type": "markdown",
   "id": "a7a12f38",
   "metadata": {},
   "source": [
    "## 3. Risk characteristics.\n",
    "### (a) For both strategies, the market, and GMO, calculate the monthly VaR for pi = 0.05. Just use the quantile of the historic data for this VaR calculation."
   ]
  },
  {
   "cell_type": "code",
   "execution_count": 73,
   "id": "52513331",
   "metadata": {},
   "outputs": [
    {
     "data": {
      "text/html": [
       "<div>\n",
       "<style scoped>\n",
       "    .dataframe tbody tr th:only-of-type {\n",
       "        vertical-align: middle;\n",
       "    }\n",
       "\n",
       "    .dataframe tbody tr th {\n",
       "        vertical-align: top;\n",
       "    }\n",
       "\n",
       "    .dataframe thead th {\n",
       "        text-align: right;\n",
       "    }\n",
       "</style>\n",
       "<table border=\"1\" class=\"dataframe\">\n",
       "  <thead>\n",
       "    <tr style=\"text-align: right;\">\n",
       "      <th></th>\n",
       "      <th>5% VaR</th>\n",
       "    </tr>\n",
       "  </thead>\n",
       "  <tbody>\n",
       "    <tr>\n",
       "      <th>DP Strat</th>\n",
       "      <td>-0.0523</td>\n",
       "    </tr>\n",
       "    <tr>\n",
       "      <th>EP Strat</th>\n",
       "      <td>-0.0541</td>\n",
       "    </tr>\n",
       "    <tr>\n",
       "      <th>3-factor Strat</th>\n",
       "      <td>-0.0642</td>\n",
       "    </tr>\n",
       "    <tr>\n",
       "      <th>SPY</th>\n",
       "      <td>-0.0739</td>\n",
       "    </tr>\n",
       "    <tr>\n",
       "      <th>GMO</th>\n",
       "      <td>-0.0473</td>\n",
       "    </tr>\n",
       "  </tbody>\n",
       "</table>\n",
       "</div>"
      ],
      "text/plain": [
       "                5% VaR\n",
       "DP Strat       -0.0523\n",
       "EP Strat       -0.0541\n",
       "3-factor Strat -0.0642\n",
       "SPY            -0.0739\n",
       "GMO            -0.0473"
      ]
     },
     "execution_count": 73,
     "metadata": {},
     "output_type": "execute_result"
    }
   ],
   "source": [
    "# VAR\n",
    "VaR = pd.DataFrame([r_DP.quantile(.05), r_EP.quantile(.05), r_3fac.quantile(.05), \n",
    "                    signals_copy['SPY'].quantile(.05), \n",
    "                    GMO['GMWAX'].quantile(.05)],\n",
    "                   index = ['DP Strat','EP Strat','3-factor Strat','SPY','GMO'], \n",
    "                   columns = ['5% VaR'])\n",
    "\n",
    "VaR"
   ]
  },
  {
   "cell_type": "markdown",
   "id": "2d9050b1",
   "metadata": {},
   "source": [
    "### (b) The GMO case mentions that stocks under-performed short-term bonds from 2000-2011. Does the dynamic portfolio above under-perform the risk-free rate over this time?\n",
    "From the stats listed below, all three dynamic portfolios out-performed the risk-free rate over this time."
   ]
  },
  {
   "cell_type": "code",
   "execution_count": 74,
   "id": "d20401ed",
   "metadata": {},
   "outputs": [
    {
     "data": {
      "text/html": [
       "<div>\n",
       "<style scoped>\n",
       "    .dataframe tbody tr th:only-of-type {\n",
       "        vertical-align: middle;\n",
       "    }\n",
       "\n",
       "    .dataframe tbody tr th {\n",
       "        vertical-align: top;\n",
       "    }\n",
       "\n",
       "    .dataframe thead th {\n",
       "        text-align: right;\n",
       "    }\n",
       "</style>\n",
       "<table border=\"1\" class=\"dataframe\">\n",
       "  <thead>\n",
       "    <tr style=\"text-align: right;\">\n",
       "      <th></th>\n",
       "      <th>Mean</th>\n",
       "      <th>Vol</th>\n",
       "      <th>Sharpe</th>\n",
       "    </tr>\n",
       "  </thead>\n",
       "  <tbody>\n",
       "    <tr>\n",
       "      <th>DP Strat</th>\n",
       "      <td>0.0393</td>\n",
       "      <td>0.1842</td>\n",
       "      <td>0.2135</td>\n",
       "    </tr>\n",
       "  </tbody>\n",
       "</table>\n",
       "</div>"
      ],
      "text/plain": [
       "            Mean     Vol  Sharpe\n",
       "DP Strat  0.0393  0.1842  0.2135"
      ]
     },
     "execution_count": 74,
     "metadata": {},
     "output_type": "execute_result"
    }
   ],
   "source": [
    "summary_stats(r_DP.to_frame('DP Strat').loc['2000':'2011'])"
   ]
  },
  {
   "cell_type": "code",
   "execution_count": 75,
   "id": "c2c25d4b",
   "metadata": {},
   "outputs": [
    {
     "data": {
      "text/html": [
       "<div>\n",
       "<style scoped>\n",
       "    .dataframe tbody tr th:only-of-type {\n",
       "        vertical-align: middle;\n",
       "    }\n",
       "\n",
       "    .dataframe tbody tr th {\n",
       "        vertical-align: top;\n",
       "    }\n",
       "\n",
       "    .dataframe thead th {\n",
       "        text-align: right;\n",
       "    }\n",
       "</style>\n",
       "<table border=\"1\" class=\"dataframe\">\n",
       "  <thead>\n",
       "    <tr style=\"text-align: right;\">\n",
       "      <th></th>\n",
       "      <th>Mean</th>\n",
       "      <th>Vol</th>\n",
       "      <th>Sharpe</th>\n",
       "    </tr>\n",
       "  </thead>\n",
       "  <tbody>\n",
       "    <tr>\n",
       "      <th>EP Strat</th>\n",
       "      <td>0.0373</td>\n",
       "      <td>0.1339</td>\n",
       "      <td>0.2784</td>\n",
       "    </tr>\n",
       "  </tbody>\n",
       "</table>\n",
       "</div>"
      ],
      "text/plain": [
       "            Mean     Vol  Sharpe\n",
       "EP Strat  0.0373  0.1339  0.2784"
      ]
     },
     "execution_count": 75,
     "metadata": {},
     "output_type": "execute_result"
    }
   ],
   "source": [
    "summary_stats(r_EP.to_frame('EP Strat').loc['2000':'2011'])"
   ]
  },
  {
   "cell_type": "code",
   "execution_count": 77,
   "id": "18bb723a",
   "metadata": {},
   "outputs": [
    {
     "data": {
      "text/html": [
       "<div>\n",
       "<style scoped>\n",
       "    .dataframe tbody tr th:only-of-type {\n",
       "        vertical-align: middle;\n",
       "    }\n",
       "\n",
       "    .dataframe tbody tr th {\n",
       "        vertical-align: top;\n",
       "    }\n",
       "\n",
       "    .dataframe thead th {\n",
       "        text-align: right;\n",
       "    }\n",
       "</style>\n",
       "<table border=\"1\" class=\"dataframe\">\n",
       "  <thead>\n",
       "    <tr style=\"text-align: right;\">\n",
       "      <th></th>\n",
       "      <th>Mean</th>\n",
       "      <th>Vol</th>\n",
       "      <th>Sharpe</th>\n",
       "    </tr>\n",
       "  </thead>\n",
       "  <tbody>\n",
       "    <tr>\n",
       "      <th>r_3_fac Strat</th>\n",
       "      <td>0.0608</td>\n",
       "      <td>0.1574</td>\n",
       "      <td>0.3863</td>\n",
       "    </tr>\n",
       "  </tbody>\n",
       "</table>\n",
       "</div>"
      ],
      "text/plain": [
       "                 Mean     Vol  Sharpe\n",
       "r_3_fac Strat  0.0608  0.1574  0.3863"
      ]
     },
     "execution_count": 77,
     "metadata": {},
     "output_type": "execute_result"
    }
   ],
   "source": [
    "summary_stats(r_3fac.to_frame('r_3_fac Strat').loc['2000':'2011'])"
   ]
  },
  {
   "cell_type": "code",
   "execution_count": 81,
   "id": "c8aadfd2",
   "metadata": {},
   "outputs": [
    {
     "data": {
      "text/html": [
       "<div>\n",
       "<style scoped>\n",
       "    .dataframe tbody tr th:only-of-type {\n",
       "        vertical-align: middle;\n",
       "    }\n",
       "\n",
       "    .dataframe tbody tr th {\n",
       "        vertical-align: top;\n",
       "    }\n",
       "\n",
       "    .dataframe thead th {\n",
       "        text-align: right;\n",
       "    }\n",
       "</style>\n",
       "<table border=\"1\" class=\"dataframe\">\n",
       "  <thead>\n",
       "    <tr style=\"text-align: right;\">\n",
       "      <th></th>\n",
       "      <th>Mean</th>\n",
       "      <th>Vol</th>\n",
       "      <th>Sharpe</th>\n",
       "    </tr>\n",
       "  </thead>\n",
       "  <tbody>\n",
       "    <tr>\n",
       "      <th>RF Strat</th>\n",
       "      <td>0.0231</td>\n",
       "      <td>0.0058</td>\n",
       "      <td>3.9866</td>\n",
       "    </tr>\n",
       "  </tbody>\n",
       "</table>\n",
       "</div>"
      ],
      "text/plain": [
       "            Mean     Vol  Sharpe\n",
       "RF Strat  0.0231  0.0058  3.9866"
      ]
     },
     "execution_count": 81,
     "metadata": {},
     "output_type": "execute_result"
    }
   ],
   "source": [
    "summary_stats(rf[\"US3M\"].to_frame('RF Strat').loc['2000':'2011'])\n"
   ]
  },
  {
   "cell_type": "markdown",
   "id": "c30ab4d8",
   "metadata": {},
   "source": [
    "### (c) Based on the regression estimates, in how many periods do we estimate a negative risk premium?\n"
   ]
  },
  {
   "cell_type": "code",
   "execution_count": 100,
   "id": "a7ebc45a",
   "metadata": {},
   "outputs": [
    {
     "data": {
      "text/html": [
       "<div>\n",
       "<style scoped>\n",
       "    .dataframe tbody tr th:only-of-type {\n",
       "        vertical-align: middle;\n",
       "    }\n",
       "\n",
       "    .dataframe tbody tr th {\n",
       "        vertical-align: top;\n",
       "    }\n",
       "\n",
       "    .dataframe thead th {\n",
       "        text-align: right;\n",
       "    }\n",
       "</style>\n",
       "<table border=\"1\" class=\"dataframe\">\n",
       "  <thead>\n",
       "    <tr style=\"text-align: right;\">\n",
       "      <th></th>\n",
       "      <th>3-factor Strat</th>\n",
       "      <th>DP Strat</th>\n",
       "      <th>EP Strat</th>\n",
       "    </tr>\n",
       "  </thead>\n",
       "  <tbody>\n",
       "    <tr>\n",
       "      <th>% of periods underperforming $r^{f}$</th>\n",
       "      <td>37.0787</td>\n",
       "      <td>37.3596</td>\n",
       "      <td>37.3596</td>\n",
       "    </tr>\n",
       "  </tbody>\n",
       "</table>\n",
       "</div>"
      ],
      "text/plain": [
       "                                      3-factor Strat  DP Strat  EP Strat\n",
       "% of periods underperforming $r^{f}$         37.0787   37.3596   37.3596"
      ]
     },
     "execution_count": 100,
     "metadata": {},
     "output_type": "execute_result"
    }
   ],
   "source": [
    "r_df = r_3fac.to_frame('3-factor Strat')\n",
    "r_df['DP Strat'] = r_DP\n",
    "r_df['EP Strat'] = r_EP\n",
    "r_df['rf'] = rf['US3M']\n",
    "\n",
    "df_riskprem = pd.DataFrame(data=None, index=[r'% of periods underperforming $r^{f}$'])\n",
    "for col in r_df.columns[:3]:\n",
    "    df_riskprem[col] = len(r_df[r_df[col] < r_df['rf']])/len(r_df) * 100\n",
    "    \n",
    "df_riskprem\n",
    "\n"
   ]
  },
  {
   "cell_type": "markdown",
   "id": "40048ed0",
   "metadata": {},
   "source": [
    "### (d) Do you believe the dynamic strategy takes on extra risk?\n",
    "Not really, all these statistics shows that overall dynamic strategies does not take extra risks comparing with SPY."
   ]
  },
  {
   "cell_type": "markdown",
   "id": "be89b909",
   "metadata": {},
   "source": [
    "# Part 4 Out-of-Sample Forecasting\n",
    "## 1. Report the out-of-sample R2\n"
   ]
  },
  {
   "cell_type": "code",
   "execution_count": 89,
   "id": "2f4b03a7",
   "metadata": {},
   "outputs": [],
   "source": [
    "def OOS_r2(df, factors, start):\n",
    "    y = df['SPY']\n",
    "    X = sm.add_constant(df[factors])\n",
    "\n",
    "    forecast_err, null_err = [], []\n",
    "\n",
    "    for i,j in enumerate(df.index):\n",
    "        if i >= start:\n",
    "            currX = X.iloc[:i]\n",
    "            currY = y.iloc[:i]\n",
    "            reg = sm.OLS(currY, currX, missing = 'drop').fit()\n",
    "            null_forecast = currY.mean()\n",
    "            reg_predict = reg.predict(X.iloc[[i]])\n",
    "            actual = y.iloc[[i]]\n",
    "            forecast_err.append(reg_predict - actual)\n",
    "            null_err.append(null_forecast - actual)\n",
    "            \n",
    "    RSS = (np.array(forecast_err)**2).sum()\n",
    "    TSS = (np.array(null_err)**2).sum()\n",
    "    \n",
    "    return 1 - RSS/TSS"
   ]
  },
  {
   "cell_type": "code",
   "execution_count": 94,
   "id": "217ebd1f",
   "metadata": {},
   "outputs": [
    {
     "name": "stdout",
     "output_type": "stream",
     "text": [
      "EP OOS R-squared: -0.007\n"
     ]
    }
   ],
   "source": [
    "EP_OOS_r2 = OOS_r2(signals_copy, ['EP'], 60)\n",
    "\n",
    "print('EP OOS R-squared: ' + str(round(EP_OOS_r2, 4)))\n"
   ]
  },
  {
   "cell_type": "code",
   "execution_count": 95,
   "id": "4eade283",
   "metadata": {},
   "outputs": [
    {
     "name": "stdout",
     "output_type": "stream",
     "text": [
      "DP OOS R-squared: -0.0024\n"
     ]
    }
   ],
   "source": [
    "DP_OOS_r2 = OOS_r2(signals_copy, ['DP'], 60)\n",
    "\n",
    "print('DP OOS R-squared: ' + str(round(DP_OOS_r2, 4)))"
   ]
  },
  {
   "cell_type": "markdown",
   "id": "b8697364",
   "metadata": {},
   "source": [
    "### Did this forecasting strategy produce a positive OOS r-squared?\n",
    "No, both strategies produced negative OOS r-squared."
   ]
  },
  {
   "cell_type": "markdown",
   "id": "975938ce",
   "metadata": {},
   "source": [
    "## 2. Re-do problem 3.2 using this OOS forecast. "
   ]
  },
  {
   "cell_type": "code",
   "execution_count": 97,
   "id": "5e9d9e86",
   "metadata": {},
   "outputs": [],
   "source": [
    "def OOS_strat(df, factors, start, weight):\n",
    "    returns = []\n",
    "    y = df['SPY']\n",
    "    X = sm.add_constant(df[factors])\n",
    "\n",
    "    for i,j in enumerate(df.index):\n",
    "        if i >= start:\n",
    "            currX = X.iloc[:i]\n",
    "            currY = y.iloc[:i]\n",
    "            reg = sm.OLS(currY, currX, missing = 'drop').fit()\n",
    "            pred = reg.predict(X.iloc[[i]])\n",
    "            w = pred * weight\n",
    "            returns.append((df.iloc[i]['SPY'] * w)[0])\n",
    "\n",
    "    df_strat = pd.DataFrame(data = returns, index = df.iloc[-(len(returns)):].index, columns = ['Strat Returns'])\n",
    "    return df_strat"
   ]
  },
  {
   "cell_type": "code",
   "execution_count": 110,
   "id": "59e61dd3",
   "metadata": {},
   "outputs": [
    {
     "data": {
      "text/html": [
       "<div>\n",
       "<style scoped>\n",
       "    .dataframe tbody tr th:only-of-type {\n",
       "        vertical-align: middle;\n",
       "    }\n",
       "\n",
       "    .dataframe tbody tr th {\n",
       "        vertical-align: top;\n",
       "    }\n",
       "\n",
       "    .dataframe thead th {\n",
       "        text-align: right;\n",
       "    }\n",
       "</style>\n",
       "<table border=\"1\" class=\"dataframe\">\n",
       "  <thead>\n",
       "    <tr style=\"text-align: right;\">\n",
       "      <th></th>\n",
       "      <th>Mean</th>\n",
       "      <th>Vol</th>\n",
       "      <th>Sharpe (Mean/Vol)</th>\n",
       "      <th>$\\alpha$</th>\n",
       "      <th>$\\beta^{SPY}$</th>\n",
       "      <th>Max Drawdown</th>\n",
       "      <th>Information ratio</th>\n",
       "    </tr>\n",
       "  </thead>\n",
       "  <tbody>\n",
       "    <tr>\n",
       "      <th>Summary Stats</th>\n",
       "      <td>0.0819</td>\n",
       "      <td>0.1654</td>\n",
       "      <td>0.4953</td>\n",
       "      <td>0.0353</td>\n",
       "      <td>0.5435</td>\n",
       "      <td>NaN</td>\n",
       "      <td>0.249</td>\n",
       "    </tr>\n",
       "  </tbody>\n",
       "</table>\n",
       "</div>"
      ],
      "text/plain": [
       "                 Mean     Vol  Sharpe (Mean/Vol)  $\\alpha$  $\\beta^{SPY}$  \\\n",
       "Summary Stats  0.0819  0.1654             0.4953    0.0353         0.5435   \n",
       "\n",
       "               Max Drawdown  Information ratio  \n",
       "Summary Stats           NaN              0.249  "
      ]
     },
     "execution_count": 110,
     "metadata": {},
     "output_type": "execute_result"
    }
   ],
   "source": [
    "OOS_EP = OOS_strat(signals_copy, ['EP'], 60, 100)\n",
    "\n",
    "OOS_EP_total = OOS_EP.add(rf['US3M'])\n",
    "summary_stats_bm(OOS_EP['Strat Returns'], signals_copy['SPY'],OOS_EP_total)\n",
    "\n"
   ]
  },
  {
   "cell_type": "code",
   "execution_count": 142,
   "id": "8ce2d17b",
   "metadata": {},
   "outputs": [
    {
     "data": {
      "text/html": [
       "<div>\n",
       "<style scoped>\n",
       "    .dataframe tbody tr th:only-of-type {\n",
       "        vertical-align: middle;\n",
       "    }\n",
       "\n",
       "    .dataframe tbody tr th {\n",
       "        vertical-align: top;\n",
       "    }\n",
       "\n",
       "    .dataframe thead th {\n",
       "        text-align: right;\n",
       "    }\n",
       "</style>\n",
       "<table border=\"1\" class=\"dataframe\">\n",
       "  <thead>\n",
       "    <tr style=\"text-align: right;\">\n",
       "      <th></th>\n",
       "      <th>Mean</th>\n",
       "      <th>Vol</th>\n",
       "      <th>Sharpe (Mean/Vol)</th>\n",
       "      <th>$\\alpha$</th>\n",
       "      <th>$\\beta^{SPY}$</th>\n",
       "      <th>Max Drawdown</th>\n",
       "      <th>Information ratio</th>\n",
       "    </tr>\n",
       "  </thead>\n",
       "  <tbody>\n",
       "    <tr>\n",
       "      <th>Summary Stats</th>\n",
       "      <td>0.0798</td>\n",
       "      <td>0.1763</td>\n",
       "      <td>0.4525</td>\n",
       "      <td>-0.0069</td>\n",
       "      <td>1.0109</td>\n",
       "      <td>NaN</td>\n",
       "      <td>-0.088</td>\n",
       "    </tr>\n",
       "  </tbody>\n",
       "</table>\n",
       "</div>"
      ],
      "text/plain": [
       "                 Mean     Vol  Sharpe (Mean/Vol)  $\\alpha$  $\\beta^{SPY}$  \\\n",
       "Summary Stats  0.0798  0.1763             0.4525   -0.0069         1.0109   \n",
       "\n",
       "               Max Drawdown  Information ratio  \n",
       "Summary Stats           NaN             -0.088  "
      ]
     },
     "execution_count": 142,
     "metadata": {},
     "output_type": "execute_result"
    }
   ],
   "source": [
    "OOS_DP = OOS_strat(signals_copy, ['DP'], 60, 100)\n",
    "\n",
    "OOS_DP_total = OOS_DP.add(rf['US3M'], axis=0).dropna()\n",
    "summary_stats_bm(OOS_DP['Strat Returns'], signals_copy['SPY'],OOS_DP_total)\n"
   ]
  },
  {
   "cell_type": "markdown",
   "id": "a1d6e5ea",
   "metadata": {},
   "source": [
    "### How much better/worse is the OOS strategy compared to the in-sample version of 3.2?\n"
   ]
  },
  {
   "cell_type": "markdown",
   "id": "4a9a4a54",
   "metadata": {},
   "source": [
    "## 3. Re-do problem 3.3 using this OOS forecast. Is the point-in-time version of the strategy riskier?"
   ]
  },
  {
   "cell_type": "code",
   "execution_count": 153,
   "id": "78e0db80",
   "metadata": {},
   "outputs": [
    {
     "data": {
      "text/html": [
       "<div>\n",
       "<style scoped>\n",
       "    .dataframe tbody tr th:only-of-type {\n",
       "        vertical-align: middle;\n",
       "    }\n",
       "\n",
       "    .dataframe tbody tr th {\n",
       "        vertical-align: top;\n",
       "    }\n",
       "\n",
       "    .dataframe thead th {\n",
       "        text-align: right;\n",
       "    }\n",
       "</style>\n",
       "<table border=\"1\" class=\"dataframe\">\n",
       "  <thead>\n",
       "    <tr style=\"text-align: right;\">\n",
       "      <th></th>\n",
       "      <th>5% VaR</th>\n",
       "    </tr>\n",
       "  </thead>\n",
       "  <tbody>\n",
       "    <tr>\n",
       "      <th>EP Strat</th>\n",
       "      <td>-0.0710</td>\n",
       "    </tr>\n",
       "    <tr>\n",
       "      <th>DP Strat</th>\n",
       "      <td>-0.0726</td>\n",
       "    </tr>\n",
       "    <tr>\n",
       "      <th>SPY</th>\n",
       "      <td>-0.0739</td>\n",
       "    </tr>\n",
       "    <tr>\n",
       "      <th>GMO</th>\n",
       "      <td>-0.0473</td>\n",
       "    </tr>\n",
       "  </tbody>\n",
       "</table>\n",
       "</div>"
      ],
      "text/plain": [
       "          5% VaR\n",
       "EP Strat -0.0710\n",
       "DP Strat -0.0726\n",
       "SPY      -0.0739\n",
       "GMO      -0.0473"
      ]
     },
     "execution_count": 153,
     "metadata": {},
     "output_type": "execute_result"
    }
   ],
   "source": [
    "#a) \n",
    "VaR_OOS = pd.DataFrame([OOS_EP['Strat Returns'].quantile(.05),OOS_DP['Strat Returns'].quantile(.05),\n",
    "                    signals_copy['SPY'].quantile(.05), \n",
    "                    GMO['GMWAX'].quantile(.05)],\n",
    "                   index = ['EP Strat','DP Strat','SPY','GMO'], \n",
    "                   columns = ['5% VaR'])\n",
    "\n",
    "VaR_OOS"
   ]
  },
  {
   "cell_type": "code",
   "execution_count": 154,
   "id": "27b2ea38",
   "metadata": {},
   "outputs": [
    {
     "data": {
      "text/html": [
       "<div>\n",
       "<style scoped>\n",
       "    .dataframe tbody tr th:only-of-type {\n",
       "        vertical-align: middle;\n",
       "    }\n",
       "\n",
       "    .dataframe tbody tr th {\n",
       "        vertical-align: top;\n",
       "    }\n",
       "\n",
       "    .dataframe thead th {\n",
       "        text-align: right;\n",
       "    }\n",
       "</style>\n",
       "<table border=\"1\" class=\"dataframe\">\n",
       "  <thead>\n",
       "    <tr style=\"text-align: right;\">\n",
       "      <th></th>\n",
       "      <th>Mean</th>\n",
       "      <th>Vol</th>\n",
       "      <th>Sharpe (Mean/Vol)</th>\n",
       "      <th>$\\alpha$</th>\n",
       "      <th>$\\beta^{SPY}$</th>\n",
       "      <th>Max Drawdown</th>\n",
       "      <th>Information ratio</th>\n",
       "    </tr>\n",
       "  </thead>\n",
       "  <tbody>\n",
       "    <tr>\n",
       "      <th>Summary Stats</th>\n",
       "      <td>0.0388</td>\n",
       "      <td>0.1959</td>\n",
       "      <td>0.1979</td>\n",
       "      <td>0.0333</td>\n",
       "      <td>0.2994</td>\n",
       "      <td>NaN</td>\n",
       "      <td>0.1757</td>\n",
       "    </tr>\n",
       "  </tbody>\n",
       "</table>\n",
       "</div>"
      ],
      "text/plain": [
       "                 Mean     Vol  Sharpe (Mean/Vol)  $\\alpha$  $\\beta^{SPY}$  \\\n",
       "Summary Stats  0.0388  0.1959             0.1979    0.0333         0.2994   \n",
       "\n",
       "               Max Drawdown  Information ratio  \n",
       "Summary Stats           NaN             0.1757  "
      ]
     },
     "execution_count": 154,
     "metadata": {},
     "output_type": "execute_result"
    }
   ],
   "source": [
    "#b)\n",
    "summary_stats_bm(OOS_EP.loc['2000':'2011']['Strat Returns'], GMO[['SPY']],OOS_EP_total)"
   ]
  },
  {
   "cell_type": "code",
   "execution_count": 155,
   "id": "117f1286",
   "metadata": {},
   "outputs": [
    {
     "data": {
      "text/html": [
       "<div>\n",
       "<style scoped>\n",
       "    .dataframe tbody tr th:only-of-type {\n",
       "        vertical-align: middle;\n",
       "    }\n",
       "\n",
       "    .dataframe tbody tr th {\n",
       "        vertical-align: top;\n",
       "    }\n",
       "\n",
       "    .dataframe thead th {\n",
       "        text-align: right;\n",
       "    }\n",
       "</style>\n",
       "<table border=\"1\" class=\"dataframe\">\n",
       "  <thead>\n",
       "    <tr style=\"text-align: right;\">\n",
       "      <th></th>\n",
       "      <th>Mean</th>\n",
       "      <th>Vol</th>\n",
       "      <th>Sharpe (Mean/Vol)</th>\n",
       "      <th>$\\alpha$</th>\n",
       "      <th>$\\beta^{SPY}$</th>\n",
       "      <th>Max Drawdown</th>\n",
       "      <th>Information ratio</th>\n",
       "    </tr>\n",
       "  </thead>\n",
       "  <tbody>\n",
       "    <tr>\n",
       "      <th>Summary Stats</th>\n",
       "      <td>-0.0109</td>\n",
       "      <td>0.1632</td>\n",
       "      <td>-0.0667</td>\n",
       "      <td>-0.0282</td>\n",
       "      <td>0.9551</td>\n",
       "      <td>NaN</td>\n",
       "      <td>-0.5709</td>\n",
       "    </tr>\n",
       "  </tbody>\n",
       "</table>\n",
       "</div>"
      ],
      "text/plain": [
       "                 Mean     Vol  Sharpe (Mean/Vol)  $\\alpha$  $\\beta^{SPY}$  \\\n",
       "Summary Stats -0.0109  0.1632            -0.0667   -0.0282         0.9551   \n",
       "\n",
       "               Max Drawdown  Information ratio  \n",
       "Summary Stats           NaN            -0.5709  "
      ]
     },
     "execution_count": 155,
     "metadata": {},
     "output_type": "execute_result"
    }
   ],
   "source": [
    "summary_stats_bm(OOS_DP.loc['2000':'2011']['Strat Returns'], GMO[['SPY']],OOS_DP_total)"
   ]
  },
  {
   "cell_type": "code",
   "execution_count": 156,
   "id": "88071d70",
   "metadata": {},
   "outputs": [
    {
     "data": {
      "text/html": [
       "<div>\n",
       "<style scoped>\n",
       "    .dataframe tbody tr th:only-of-type {\n",
       "        vertical-align: middle;\n",
       "    }\n",
       "\n",
       "    .dataframe tbody tr th {\n",
       "        vertical-align: top;\n",
       "    }\n",
       "\n",
       "    .dataframe thead th {\n",
       "        text-align: right;\n",
       "    }\n",
       "</style>\n",
       "<table border=\"1\" class=\"dataframe\">\n",
       "  <thead>\n",
       "    <tr style=\"text-align: right;\">\n",
       "      <th></th>\n",
       "      <th>Mean</th>\n",
       "      <th>Vol</th>\n",
       "      <th>Sharpe</th>\n",
       "    </tr>\n",
       "  </thead>\n",
       "  <tbody>\n",
       "    <tr>\n",
       "      <th>US3M</th>\n",
       "      <td>0.0231</td>\n",
       "      <td>0.0058</td>\n",
       "      <td>3.9866</td>\n",
       "    </tr>\n",
       "  </tbody>\n",
       "</table>\n",
       "</div>"
      ],
      "text/plain": [
       "        Mean     Vol  Sharpe\n",
       "US3M  0.0231  0.0058  3.9866"
      ]
     },
     "execution_count": 156,
     "metadata": {},
     "output_type": "execute_result"
    }
   ],
   "source": [
    "summary_stats(rf.loc['2000':'2011'])"
   ]
  },
  {
   "cell_type": "markdown",
   "id": "b28789cb",
   "metadata": {},
   "source": [
    "We can observe that these two dynamic strategies hardly outperformed the risk-free rate in terms of premium."
   ]
  },
  {
   "cell_type": "code",
   "execution_count": 162,
   "id": "880642d7",
   "metadata": {},
   "outputs": [
    {
     "data": {
      "text/html": [
       "<div>\n",
       "<style scoped>\n",
       "    .dataframe tbody tr th:only-of-type {\n",
       "        vertical-align: middle;\n",
       "    }\n",
       "\n",
       "    .dataframe tbody tr th {\n",
       "        vertical-align: top;\n",
       "    }\n",
       "\n",
       "    .dataframe thead th {\n",
       "        text-align: right;\n",
       "    }\n",
       "</style>\n",
       "<table border=\"1\" class=\"dataframe\">\n",
       "  <thead>\n",
       "    <tr style=\"text-align: right;\">\n",
       "      <th></th>\n",
       "      <th>EP Strat</th>\n",
       "      <th>rf</th>\n",
       "    </tr>\n",
       "  </thead>\n",
       "  <tbody>\n",
       "    <tr>\n",
       "      <th>% of periods underperforming $r^{f}$</th>\n",
       "      <td>38.3838</td>\n",
       "      <td>0.0</td>\n",
       "    </tr>\n",
       "  </tbody>\n",
       "</table>\n",
       "</div>"
      ],
      "text/plain": [
       "                                      EP Strat   rf\n",
       "% of periods underperforming $r^{f}$   38.3838  0.0"
      ]
     },
     "execution_count": 162,
     "metadata": {},
     "output_type": "execute_result"
    }
   ],
   "source": [
    "#c)\n",
    "r_df_OOS_EP = OOS_EP.rename(columns={\"Strat Returns\": \"EP Strat\"})\n",
    "r_df_OOS_EP['rf'] = rf['US3M']\n",
    "\n",
    "riskprem2_EP = pd.DataFrame(data=None, index=[r'% of periods underperforming $r^{f}$'])\n",
    "for col in r_df_OOS_EP.columns[:3]:\n",
    "    riskprem2_EP[col] = len(r_df_OOS_EP[r_df_OOS[col] < r_df_OOS_EP['rf']])/len(r_df_OOS_EP) * 100\n",
    "    \n",
    "riskprem2_EP"
   ]
  },
  {
   "cell_type": "code",
   "execution_count": 163,
   "id": "663c6262",
   "metadata": {},
   "outputs": [
    {
     "data": {
      "text/html": [
       "<div>\n",
       "<style scoped>\n",
       "    .dataframe tbody tr th:only-of-type {\n",
       "        vertical-align: middle;\n",
       "    }\n",
       "\n",
       "    .dataframe tbody tr th {\n",
       "        vertical-align: top;\n",
       "    }\n",
       "\n",
       "    .dataframe thead th {\n",
       "        text-align: right;\n",
       "    }\n",
       "</style>\n",
       "<table border=\"1\" class=\"dataframe\">\n",
       "  <thead>\n",
       "    <tr style=\"text-align: right;\">\n",
       "      <th></th>\n",
       "      <th>DP Strat</th>\n",
       "      <th>rf</th>\n",
       "    </tr>\n",
       "  </thead>\n",
       "  <tbody>\n",
       "    <tr>\n",
       "      <th>% of periods underperforming $r^{f}$</th>\n",
       "      <td>39.0572</td>\n",
       "      <td>0.0</td>\n",
       "    </tr>\n",
       "  </tbody>\n",
       "</table>\n",
       "</div>"
      ],
      "text/plain": [
       "                                      DP Strat   rf\n",
       "% of periods underperforming $r^{f}$   39.0572  0.0"
      ]
     },
     "execution_count": 163,
     "metadata": {},
     "output_type": "execute_result"
    }
   ],
   "source": [
    "r_df_OOS_DP = OOS_DP.rename(columns={\"Strat Returns\": \"DP Strat\"})\n",
    "r_df_OOS_DP['rf'] = rf['US3M']\n",
    "\n",
    "riskprem2_DP = pd.DataFrame(data=None, index=[r'% of periods underperforming $r^{f}$'])\n",
    "for col in r_df_OOS_DP.columns[:3]:\n",
    "    riskprem2_DP[col] = len(r_df_OOS_DP[r_df_OOS_DP[col] < r_df_OOS_DP['rf']])/len(r_df_OOS_DP) * 100\n",
    "    \n",
    "riskprem2_DP"
   ]
  },
  {
   "cell_type": "markdown",
   "id": "50803399",
   "metadata": {},
   "source": [
    "#d)\n",
    "Yes, it seems riker than SPY. "
   ]
  }
 ],
 "metadata": {
  "kernelspec": {
   "display_name": "Python 3 (ipykernel)",
   "language": "python",
   "name": "python3"
  },
  "language_info": {
   "codemirror_mode": {
    "name": "ipython",
    "version": 3
   },
   "file_extension": ".py",
   "mimetype": "text/x-python",
   "name": "python",
   "nbconvert_exporter": "python",
   "pygments_lexer": "ipython3",
   "version": "3.9.13"
  }
 },
 "nbformat": 4,
 "nbformat_minor": 5
}
